{
 "cells": [
  {
   "cell_type": "markdown",
   "metadata": {},
   "source": [
    "# Bartender Project"
   ]
  },
  {
   "cell_type": "markdown",
   "metadata": {},
   "source": [
    "## Given two dictionaries : Questions and Ingredients"
   ]
  },
  {
   "cell_type": "markdown",
   "metadata": {},
   "source": [
    "questions = { \"strong\" : \"Do you like yer drinks strong?\"\n",
    "             , \"salty\" : \"Do you like it with a salty tang?\"\n",
    "             , \"bitter\": \"Are you a                                                                                                  lubber who likes it bitter?\"\n",
    "             , \"sweet\" : \"Would you like a bit of sweetness with yer poison?\"\n",
    "             , \"fruity\": \"Are you one for a fruity finish?\"\n",
    "            }\n",
    "           \n",
    "ingredients = { \"strong\" : [\"glug of rum\", \"slug of wahisky\", \"splash of gin\"]\n",
    "               , \"salty\" : [\"olive on a stick\", \"salt-dusted rim\", \"rasher of bacon\"]\n",
    "               , \"bitter\": [\"shake of bitters\", \"splash of tonic\", \"twist of lemon peel\"]\n",
    "               , \"sweet\" : [\"sugar cube\", \"spoonful of honey\", \"spash of cola\"]\n",
    "               , \"fruity\": [\"slice of orange\", \"dash of cassis\", \"cherry on top\"]\n",
    "              }"
   ]
  },
  {
   "cell_type": "markdown",
   "metadata": {},
   "source": [
    "## 1. Create 2 dictionaries "
   ]
  },
  {
   "cell_type": "code",
   "execution_count": null,
   "metadata": {},
   "outputs": [],
   "source": [
    "questions = { \"strong\" : \"Do you like yer drinks strong?\"\n",
    "             , \"salty\" : \"Do you like it with a salty tang?\"\n",
    "             , \"bitter\": \"Are you a                                                                                                  lubber who likes it bitter?\"\n",
    "             , \"sweet\" : \"Would you like a bit of sweetness with yer poison?\"\n",
    "             , \"fruity\": \"Are you one for a fruity finish?\"\n",
    "            }\n",
    "           \n",
    "ingredients = { \"strong\" : [\"glug of rum\", \"slug of wahisky\", \"splash of gin\"]\n",
    "               , \"salty\" : [\"olive on a stick\", \"salt-dusted rim\", \"rasher of bacon\"]\n",
    "               , \"bitter\": [\"shake of bitters\", \"splash of tonic\", \"twist of lemon peel\"]\n",
    "               , \"sweet\" : [\"sugar cube\", \"spoonful of honey\", \"spash of cola\"]\n",
    "               , \"fruity\": [\"slice of orange\", \"dash of cassis\", \"cherry on top\"]\n",
    "              }"
   ]
  },
  {
   "cell_type": "code",
   "execution_count": null,
   "metadata": {},
   "outputs": [],
   "source": [
    "# add color to words\n",
    "class color:\n",
    "    PURPLE = '\\033[95m'\n",
    "    CYAN = '\\033[96m'\n",
    "    DARKCYAN = '\\033[36m'\n",
    "    BLUE = '\\033[94m'\n",
    "    GREEN = '\\033[92m'\n",
    "    YELLOW = '\\033[93m'\n",
    "    RED = '\\033[91m'\n",
    "    BOLD = '\\033[1m'\n",
    "    UNDERLINE = '\\033[4m'\n",
    "    END = '\\033[0m'"
   ]
  },
  {
   "cell_type": "markdown",
   "metadata": {},
   "source": [
    "## 2. Create function to ask users entering their tastes and return random answers from Ingredients"
   ]
  },
  {
   "cell_type": "code",
   "execution_count": 112,
   "metadata": {},
   "outputs": [],
   "source": [
    "import random\n",
    "def Asking_Questions(*agr):\n",
    "    for i, (key, value) in enumerate(questions.items()):\n",
    "        \n",
    "        #  Print the Questions\n",
    "        print ( \"Question \" + str(i+1) + \":\" , color.GREEN + value + color.END) \n",
    "        \n",
    "        # Print the Answers\n",
    "        print(\"Answer   \"+ str(i+1) + \":\" , color.BOLD + agr[i].title() + color.END)\n",
    "        \n",
    "        # If the answer is Yes then print a random output in the ingredients\n",
    "        if agr[i].upper() == \"YES\":         \n",
    "            print(\"So you should try a delicious drink called\" , color.PURPLE + random.choice(list(ingredients[key])) + color.END)    \n",
    "        \n",
    "        print(\"\")\n"
   ]
  },
  {
   "cell_type": "markdown",
   "metadata": {},
   "source": [
    "## 3. Test the function Asking_Questions"
   ]
  },
  {
   "cell_type": "code",
   "execution_count": 113,
   "metadata": {},
   "outputs": [
    {
     "name": "stdout",
     "output_type": "stream",
     "text": [
      "Question 1: \u001b[92mDo ye like yer drinks strong?\u001b[0m\n",
      "Answer   1: \u001b[1mYes\u001b[0m\n",
      "So you should try a delicious drink called \u001b[95mglug of rum\u001b[0m\n",
      "\n",
      "Question 2: \u001b[92mDo ye like it with a salty tang?\u001b[0m\n",
      "Answer   2: \u001b[1mNo\u001b[0m\n",
      "\n",
      "Question 3: \u001b[92mAre ye a lubber who likes it bitter?\u001b[0m\n",
      "Answer   3: \u001b[1mYes\u001b[0m\n",
      "So you should try a delicious drink called \u001b[95mshake of bitters\u001b[0m\n",
      "\n",
      "Question 4: \u001b[92mWould ye like a bit of sweetness with yer poison?\u001b[0m\n",
      "Answer   4: \u001b[1mYes\u001b[0m\n",
      "So you should try a delicious drink called \u001b[95mspoonful of honey\u001b[0m\n",
      "\n",
      "Question 5: \u001b[92mAre ye one for a fruity finish?\u001b[0m\n",
      "Answer   5: \u001b[1mNo\u001b[0m\n",
      "\n"
     ]
    }
   ],
   "source": [
    "Asking_Questions(\"yes\",\"No\",\"Yes\",\"yeS\",\"NO\")"
   ]
  }
 ],
 "metadata": {
  "kernelspec": {
   "display_name": "Python 3",
   "language": "python",
   "name": "python3"
  },
  "language_info": {
   "codemirror_mode": {
    "name": "ipython",
    "version": 3
   },
   "file_extension": ".py",
   "mimetype": "text/x-python",
   "name": "python",
   "nbconvert_exporter": "python",
   "pygments_lexer": "ipython3",
   "version": "3.7.1"
  }
 },
 "nbformat": 4,
 "nbformat_minor": 2
}
